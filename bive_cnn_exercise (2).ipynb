{
  "nbformat": 4,
  "nbformat_minor": 0,
  "metadata": {
    "colab": {
      "provenance": [],
      "collapsed_sections": []
    },
    "kernelspec": {
      "name": "python3",
      "display_name": "Python 3"
    },
    "language_info": {
      "name": "python"
    }
  },
  "cells": [
    {
      "cell_type": "markdown",
      "source": [],
      "metadata": {
        "id": "qeE14b4RzNFo"
      }
    },
    {
      "cell_type": "code",
      "execution_count": null,
      "metadata": {
        "id": "-hBsyvXhyXj_"
      },
      "outputs": [],
      "source": [
        "#Import libraries\n",
        "import tensorflow as tf\n",
        "import keras\n",
        "import numpy as np\n",
        "import cv2\n",
        "import os"
      ]
    },
    {
      "cell_type": "code",
      "source": [
        "#For COLAB: import this library to access the drive\n",
        "from google.colab import drive\n",
        "drive.mount('/content/drive', force_remount=True)"
      ],
      "metadata": {
        "colab": {
          "base_uri": "https://localhost:8080/"
        },
        "id": "pKYgWyP3zNve",
        "outputId": "2d9f3554-d439-44ea-d2b5-c68e0db87f7d"
      },
      "execution_count": null,
      "outputs": [
        {
          "output_type": "stream",
          "name": "stdout",
          "text": [
            "Mounted at /content/drive\n"
          ]
        }
      ]
    },
    {
      "cell_type": "code",
      "source": [
        "#Gather and Prepare the Data\n",
        "from keras.preprocessing.image import ImageDataGenerator\n",
        "\n",
        "#Import function for rescaling the the images\n",
        "train = ImageDataGenerator(\n",
        "    rescale = 1./255,\n",
        "    shear_range = 0.2,\n",
        "    zoom_range = 0.2,\n",
        "    horizontal_flip = True)\n",
        "\n",
        "#Import the training data\n",
        "train_path = '/content/drive/MyDrive/4th Year - 1st Sem/COE 005/Covid19-dataset/train/'\n",
        "\n",
        "#Rescale training data\n",
        "train_dataset = train.flow_from_directory(train_path, \n",
        "                                          target_size = (224, 224), \n",
        "                                          batch_size = 32, \n",
        "                                          class_mode = 'categorical')"
      ],
      "metadata": {
        "colab": {
          "base_uri": "https://localhost:8080/"
        },
        "id": "amA_9w3AzMMR",
        "outputId": "27fd78b8-7476-48c9-b04f-a146daf2a05f"
      },
      "execution_count": null,
      "outputs": [
        {
          "output_type": "stream",
          "name": "stdout",
          "text": [
            "Found 249 images belonging to 3 classes.\n"
          ]
        }
      ]
    },
    {
      "cell_type": "code",
      "source": [
        "#Import testing data\n",
        "test = ImageDataGenerator(rescale=1./255)\n",
        "test_path = '/content/drive/MyDrive/4th Year - 1st Sem/COE 005/Covid19-dataset/test/'\n",
        "test_dataset = train.flow_from_directory(test_path, \n",
        "                                         target_size = (224, 224), \n",
        "                                         batch_size = 32, \n",
        "                                         class_mode = 'categorical')"
      ],
      "metadata": {
        "colab": {
          "base_uri": "https://localhost:8080/"
        },
        "id": "oiRb7unk4ZJl",
        "outputId": "f82c60e4-22b3-416e-9c99-b9f170cab0da"
      },
      "execution_count": null,
      "outputs": [
        {
          "output_type": "stream",
          "name": "stdout",
          "text": [
            "Found 65 images belonging to 3 classes.\n"
          ]
        }
      ]
    },
    {
      "cell_type": "code",
      "source": [
        "#Identify the different classes in the dataset\n",
        "train_dataset.class_indices, test_dataset.class_indices"
      ],
      "metadata": {
        "colab": {
          "base_uri": "https://localhost:8080/"
        },
        "id": "mtdjRhsYPWu9",
        "outputId": "7602b1fc-7622-4e3b-babc-c34711b82cd4"
      },
      "execution_count": null,
      "outputs": [
        {
          "output_type": "execute_result",
          "data": {
            "text/plain": [
              "({'Covid': 0, 'Normal': 1, 'Viral Pneumonia': 2},\n",
              " {'Covid': 0, 'Normal': 1, 'Viral Pneumonia': 2})"
            ]
          },
          "metadata": {},
          "execution_count": 7
        }
      ]
    },
    {
      "cell_type": "code",
      "source": [
        "from keras.layers import *\n",
        "from keras.models import Sequential\n",
        "from keras.preprocessing import image"
      ],
      "metadata": {
        "id": "V1JAYLAtFjqt"
      },
      "execution_count": null,
      "outputs": []
    },
    {
      "cell_type": "code",
      "source": [
        "#Choose a model - Convolutional Neural Network\n",
        "from keras.backend import categorical_crossentropy\n",
        "model = Sequential()\n",
        "model.add(Conv2D(32,\n",
        "                 kernel_size=(3,3), #Standard\n",
        "                 activation='relu',\n",
        "                 input_shape=(224,224,3)))\n",
        "model.add(Conv2D(64, (3,3), activation='relu'))\n",
        "model.add(MaxPooling2D(pool_size=(2,2)))\n",
        "model.add(Dropout(0.25))\n",
        "\n",
        "model.add(Conv2D(64, (3,3), activation='relu'))\n",
        "model.add(MaxPooling2D(pool_size=(2,2)))\n",
        "model.add(Dropout(0.25))\n",
        "\n",
        "model.add(Conv2D(128, (3,3), activation='relu'))\n",
        "model.add(MaxPooling2D(pool_size=(2,2)))\n",
        "model.add(Dropout(0.25))\n",
        "\n",
        "model.add(Flatten())\n",
        "model.add(Dense(64, activation='relu'))\n",
        "model.add(Dropout(0.5))\n",
        "model.add(Dense(3, activation='sigmoid'))\n",
        "\n",
        "model.compile(loss='categorical_crossentropy', optimizer='adam', metrics=['accuracy'])"
      ],
      "metadata": {
        "id": "dVQP21swKyFj"
      },
      "execution_count": 58,
      "outputs": []
    },
    {
      "cell_type": "code",
      "source": [
        "model.summary()"
      ],
      "metadata": {
        "colab": {
          "base_uri": "https://localhost:8080/"
        },
        "id": "dNYVecWHeVgr",
        "outputId": "562d5ac8-59bd-4615-dfa9-0d3b48e3bfb1"
      },
      "execution_count": 59,
      "outputs": [
        {
          "output_type": "stream",
          "name": "stdout",
          "text": [
            "Model: \"sequential_1\"\n",
            "_________________________________________________________________\n",
            " Layer (type)                Output Shape              Param #   \n",
            "=================================================================\n",
            " conv2d_4 (Conv2D)           (None, 222, 222, 32)      896       \n",
            "                                                                 \n",
            " conv2d_5 (Conv2D)           (None, 220, 220, 64)      18496     \n",
            "                                                                 \n",
            " max_pooling2d_3 (MaxPooling  (None, 110, 110, 64)     0         \n",
            " 2D)                                                             \n",
            "                                                                 \n",
            " dropout_4 (Dropout)         (None, 110, 110, 64)      0         \n",
            "                                                                 \n",
            " conv2d_6 (Conv2D)           (None, 108, 108, 64)      36928     \n",
            "                                                                 \n",
            " max_pooling2d_4 (MaxPooling  (None, 54, 54, 64)       0         \n",
            " 2D)                                                             \n",
            "                                                                 \n",
            " dropout_5 (Dropout)         (None, 54, 54, 64)        0         \n",
            "                                                                 \n",
            " conv2d_7 (Conv2D)           (None, 52, 52, 128)       73856     \n",
            "                                                                 \n",
            " max_pooling2d_5 (MaxPooling  (None, 26, 26, 128)      0         \n",
            " 2D)                                                             \n",
            "                                                                 \n",
            " dropout_6 (Dropout)         (None, 26, 26, 128)       0         \n",
            "                                                                 \n",
            " flatten_1 (Flatten)         (None, 86528)             0         \n",
            "                                                                 \n",
            " dense_2 (Dense)             (None, 64)                5537856   \n",
            "                                                                 \n",
            " dropout_7 (Dropout)         (None, 64)                0         \n",
            "                                                                 \n",
            " dense_3 (Dense)             (None, 3)                 195       \n",
            "                                                                 \n",
            "=================================================================\n",
            "Total params: 5,668,227\n",
            "Trainable params: 5,668,227\n",
            "Non-trainable params: 0\n",
            "_________________________________________________________________\n"
          ]
        }
      ]
    },
    {
      "cell_type": "code",
      "source": [
        "#Train the chosen model\n",
        "history = model.fit_generator(\n",
        "    train_dataset,\n",
        "    steps_per_epoch=7,\n",
        "    epochs = 15,\n",
        "    validation_data = test_dataset,\n",
        "    validation_steps=2\n",
        ")"
      ],
      "metadata": {
        "colab": {
          "base_uri": "https://localhost:8080/"
        },
        "id": "yWNhXuxceb_a",
        "outputId": "6c44b632-ab42-4350-eb91-2af1a289dfeb"
      },
      "execution_count": 60,
      "outputs": [
        {
          "output_type": "stream",
          "name": "stderr",
          "text": [
            "/usr/local/lib/python3.7/dist-packages/ipykernel_launcher.py:6: UserWarning: `Model.fit_generator` is deprecated and will be removed in a future version. Please use `Model.fit`, which supports generators.\n",
            "  \n"
          ]
        },
        {
          "output_type": "stream",
          "name": "stdout",
          "text": [
            "Epoch 1/15\n",
            "7/7 [==============================] - 90s 13s/step - loss: 1.7868 - accuracy: 0.3364 - val_loss: 1.0975 - val_accuracy: 0.3750\n",
            "Epoch 2/15\n",
            "7/7 [==============================] - 87s 12s/step - loss: 1.0528 - accuracy: 0.4688 - val_loss: 1.0316 - val_accuracy: 0.3906\n",
            "Epoch 3/15\n",
            "7/7 [==============================] - 81s 11s/step - loss: 0.9361 - accuracy: 0.5622 - val_loss: 0.9370 - val_accuracy: 0.5469\n",
            "Epoch 4/15\n",
            "7/7 [==============================] - 91s 13s/step - loss: 0.7408 - accuracy: 0.6820 - val_loss: 0.7871 - val_accuracy: 0.6250\n",
            "Epoch 5/15\n",
            "7/7 [==============================] - 80s 12s/step - loss: 0.6009 - accuracy: 0.7880 - val_loss: 0.8507 - val_accuracy: 0.7969\n",
            "Epoch 6/15\n",
            "7/7 [==============================] - 86s 12s/step - loss: 0.6165 - accuracy: 0.7235 - val_loss: 0.7200 - val_accuracy: 0.6406\n",
            "Epoch 7/15\n",
            "7/7 [==============================] - 76s 11s/step - loss: 0.5186 - accuracy: 0.8065 - val_loss: 0.6826 - val_accuracy: 0.6719\n",
            "Epoch 8/15\n",
            "7/7 [==============================] - 81s 12s/step - loss: 0.4895 - accuracy: 0.7834 - val_loss: 0.5953 - val_accuracy: 0.7188\n",
            "Epoch 9/15\n",
            "7/7 [==============================] - 81s 12s/step - loss: 0.4686 - accuracy: 0.8203 - val_loss: 0.5720 - val_accuracy: 0.6875\n",
            "Epoch 10/15\n",
            "7/7 [==============================] - 86s 12s/step - loss: 0.4367 - accuracy: 0.8387 - val_loss: 0.5167 - val_accuracy: 0.7500\n",
            "Epoch 11/15\n",
            "7/7 [==============================] - 76s 10s/step - loss: 0.3906 - accuracy: 0.8438 - val_loss: 0.5071 - val_accuracy: 0.7812\n",
            "Epoch 12/15\n",
            "7/7 [==============================] - 75s 10s/step - loss: 0.5200 - accuracy: 0.8387 - val_loss: 0.5430 - val_accuracy: 0.7812\n",
            "Epoch 13/15\n",
            "7/7 [==============================] - 74s 10s/step - loss: 0.4603 - accuracy: 0.8036 - val_loss: 0.5749 - val_accuracy: 0.6875\n",
            "Epoch 14/15\n",
            "7/7 [==============================] - 74s 11s/step - loss: 0.4794 - accuracy: 0.7972 - val_loss: 0.5725 - val_accuracy: 0.7344\n",
            "Epoch 15/15\n",
            "7/7 [==============================] - 73s 10s/step - loss: 0.3986 - accuracy: 0.8341 - val_loss: 0.6216 - val_accuracy: 0.6562\n"
          ]
        }
      ]
    },
    {
      "cell_type": "code",
      "source": [
        "#Evaluation of the model\n",
        "#Plotting the loss in training and validation\n",
        "import matplotlib.pyplot as plt\n",
        "\n",
        "plt.plot(history.history['loss'])\n",
        "plt.plot(history.history['val_loss'])\n",
        "plt.title('model loss')\n",
        "plt.ylabel('loss')\n",
        "plt.xlabel('epoch')\n",
        "plt.legend(['train', 'val'], loc='upper left')\n",
        "plt.show()"
      ],
      "metadata": {
        "colab": {
          "base_uri": "https://localhost:8080/",
          "height": 295
        },
        "id": "vz4xs02jpJtH",
        "outputId": "54ee70a3-8688-4ab3-f980-692de87166e1"
      },
      "execution_count": 61,
      "outputs": [
        {
          "output_type": "display_data",
          "data": {
            "text/plain": [
              "<Figure size 432x288 with 1 Axes>"
            ],
            "image/png": "[encoded data removed]"
          },
          "metadata": {
            "needs_background": "light"
          }
        }
      ]
    },
    {
      "cell_type": "code",
      "source": [
        "#Check the accuracy\n",
        "score = model.evaluate(train_dataset)\n",
        "print('Test score:', score[0])\n",
        "print('Test accuracy:', score[1])"
      ],
      "metadata": {
        "colab": {
          "base_uri": "https://localhost:8080/"
        },
        "id": "gqevIJCM0J7e",
        "outputId": "91ed2abc-550f-4d3e-f247-f127cfc2400d"
      },
      "execution_count": 62,
      "outputs": [
        {
          "output_type": "stream",
          "name": "stdout",
          "text": [
            "8/8 [==============================] - 29s 3s/step - loss: 0.3058 - accuracy: 0.8996\n",
            "Test score: 0.3057951331138611\n",
            "Test accuracy: 0.8995984196662903\n"
          ]
        }
      ]
    },
    {
      "cell_type": "code",
      "source": [
        "#Import validation data for testing the model\n",
        "path_dir = '/content/drive/MyDrive/4th Year - 1st Sem/COE 005/Covid19-dataset/'\n",
        "\n",
        "def loadImages(path, folder):\n",
        "    data_files = sorted([os.path.join(path, folder, file)\n",
        "                        for file in os.listdir(path + folder + '/')\n",
        "                        if (file.endswith('.jpg') or file.endswith('.jpeg') or file.endswith('.png') or file.endswith('.webp'))])\n",
        "    return data_files\n",
        "\n",
        "valid_data = loadImages(path_dir, 'validation')"
      ],
      "metadata": {
        "id": "uhIvIJVu0zD8"
      },
      "execution_count": 63,
      "outputs": []
    },
    {
      "cell_type": "code",
      "source": [
        "#Convert image data into array\n",
        "x_cv = valid_data\n",
        "x_t = []\n",
        "images = []\n",
        "\n",
        "for x in x_cv:\n",
        "    img = cv2.imread(x)\n",
        "    img = img[:, :, :3]\n",
        "    images.append(img)\n",
        "\n",
        "    width = 224\n",
        "    height = 224\n",
        "    dim = (width, height)\n",
        "\n",
        "    resized = cv2.resize(img, dim, interpolation=cv2.INTER_AREA)\n",
        "    x_t.append(resized)\n",
        "\n",
        "x_t = np.array(x_t)\n",
        "x_t = x_t/255"
      ],
      "metadata": {
        "id": "uc8QKdjoDMkK"
      },
      "execution_count": 64,
      "outputs": []
    },
    {
      "cell_type": "code",
      "source": [
        "#Predict the diagnosis of the validation data\n",
        "y_pred = model.predict(x_t)\n",
        "predict = np.argmax(y_pred, axis=1)\n",
        "print(predict)"
      ],
      "metadata": {
        "colab": {
          "base_uri": "https://localhost:8080/"
        },
        "id": "GUfl58h1Dj46",
        "outputId": "00a3db55-39e1-4398-d664-77f3409d56d5"
      },
      "execution_count": 65,
      "outputs": [
        {
          "output_type": "stream",
          "name": "stdout",
          "text": [
            "1/1 [==============================] - 1s 753ms/step\n",
            "[1 1 0 2 2 2 0 0 2 0]\n"
          ]
        }
      ]
    },
    {
      "cell_type": "code",
      "source": [
        "#Convert numerical predictions into their counterpart diagnosis\n",
        "pic_num = 0\n",
        "pred_val = []\n",
        "\n",
        "while pic_num < 10:\n",
        "  if predict[pic_num] == 0:\n",
        "    pred_eq = 'C'\n",
        "    pred_val.append(pred_eq)\n",
        "    pic_num += 1\n",
        "  elif predict[pic_num] == 1:\n",
        "    pred_eq = 'N'\n",
        "    pred_val.append(pred_eq)\n",
        "    pic_num += 1\n",
        "  elif predict[pic_num] == 2:\n",
        "    pred_eq = 'V'\n",
        "    pred_val.append(pred_eq)\n",
        "    pic_num += 1"
      ],
      "metadata": {
        "id": "aQCHyd5lhCBt"
      },
      "execution_count": 66,
      "outputs": []
    },
    {
      "cell_type": "code",
      "source": [
        "#Print actual values\n",
        "pred_val"
      ],
      "metadata": {
        "colab": {
          "base_uri": "https://localhost:8080/"
        },
        "id": "X_i5V8VIkoFH",
        "outputId": "0e399d41-08ce-4985-e060-cd7b3fb500d3"
      },
      "execution_count": 67,
      "outputs": [
        {
          "output_type": "execute_result",
          "data": {
            "text/plain": [
              "['N', 'N', 'C', 'V', 'V', 'V', 'C', 'C', 'V', 'C']"
            ]
          },
          "metadata": {},
          "execution_count": 67
        }
      ]
    },
    {
      "cell_type": "code",
      "source": [
        "#Import the csv file for output\n",
        "import pandas as pd\n",
        "output_data_path = '/content/drive/MyDrive/4th Year - 1st Sem/COE 005/Covid19-dataset/output_exercise.csv'\n",
        "output_data = pd.read_csv(output_data_path)\n",
        "output2 = output_data.loc[0:9, 'Unnamed: 0']"
      ],
      "metadata": {
        "id": "U70YF6CVHHab"
      },
      "execution_count": 68,
      "outputs": []
    },
    {
      "cell_type": "code",
      "source": [
        "#Create a new matrix for the output of prediction\n",
        "df = {'X-Ray Pic': output2}\n",
        "final_df = pd.DataFrame(df)\n",
        "final_df.insert(loc=1, column='Diagnosis', value=pred_val)\n",
        "final_df"
      ],
      "metadata": {
        "colab": {
          "base_uri": "https://localhost:8080/",
          "height": 363
        },
        "id": "j9M95SMLia2O",
        "outputId": "f63d8f77-7097-40e2-e7c3-ff232e6d5215"
      },
      "execution_count": 69,
      "outputs": [
        {
          "output_type": "execute_result",
          "data": {
            "text/plain": [
              "  X-Ray Pic Diagnosis\n",
              "0      pic1         N\n",
              "1      pic2         N\n",
              "2      pic3         C\n",
              "3      pic4         V\n",
              "4      pic5         V\n",
              "5      pic6         V\n",
              "6      pic7         C\n",
              "7      pic8         C\n",
              "8      pic9         V\n",
              "9     pic10         C"
            ],
            "text/html": [
              "\n",
              "  <div id=\"df-e7f794d3-6659-4d30-9bfd-bfbca8a8d128\">\n",
              "    <div class=\"colab-df-container\">\n",
              "      <div>\n",
              "<style scoped>\n",
              "    .dataframe tbody tr th:only-of-type {\n",
              "        vertical-align: middle;\n",
              "    }\n",
              "\n",
              "    .dataframe tbody tr th {\n",
              "        vertical-align: top;\n",
              "    }\n",
              "\n",
              "    .dataframe thead th {\n",
              "        text-align: right;\n",
              "    }\n",
              "</style>\n",
              "<table border=\"1\" class=\"dataframe\">\n",
              "  <thead>\n",
              "    <tr style=\"text-align: right;\">\n",
              "      <th></th>\n",
              "      <th>X-Ray Pic</th>\n",
              "      <th>Diagnosis</th>\n",
              "    </tr>\n",
              "  </thead>\n",
              "  <tbody>\n",
              "    <tr>\n",
              "      <th>0</th>\n",
              "      <td>pic1</td>\n",
              "      <td>N</td>\n",
              "    </tr>\n",
              "    <tr>\n",
              "      <th>1</th>\n",
              "      <td>pic2</td>\n",
              "      <td>N</td>\n",
              "    </tr>\n",
              "    <tr>\n",
              "      <th>2</th>\n",
              "      <td>pic3</td>\n",
              "      <td>C</td>\n",
              "    </tr>\n",
              "    <tr>\n",
              "      <th>3</th>\n",
              "      <td>pic4</td>\n",
              "      <td>V</td>\n",
              "    </tr>\n",
              "    <tr>\n",
              "      <th>4</th>\n",
              "      <td>pic5</td>\n",
              "      <td>V</td>\n",
              "    </tr>\n",
              "    <tr>\n",
              "      <th>5</th>\n",
              "      <td>pic6</td>\n",
              "      <td>V</td>\n",
              "    </tr>\n",
              "    <tr>\n",
              "      <th>6</th>\n",
              "      <td>pic7</td>\n",
              "      <td>C</td>\n",
              "    </tr>\n",
              "    <tr>\n",
              "      <th>7</th>\n",
              "      <td>pic8</td>\n",
              "      <td>C</td>\n",
              "    </tr>\n",
              "    <tr>\n",
              "      <th>8</th>\n",
              "      <td>pic9</td>\n",
              "      <td>V</td>\n",
              "    </tr>\n",
              "    <tr>\n",
              "      <th>9</th>\n",
              "      <td>pic10</td>\n",
              "      <td>C</td>\n",
              "    </tr>\n",
              "  </tbody>\n",
              "</table>\n",
              "</div>\n",
              "      <button class=\"colab-df-convert\" onclick=\"convertToInteractive('df-e7f794d3-6659-4d30-9bfd-bfbca8a8d128')\"\n",
              "              title=\"Convert this dataframe to an interactive table.\"\n",
              "              style=\"display:none;\">\n",
              "        \n",
              "  <svg xmlns=\"http://www.w3.org/2000/svg\" height=\"24px\"viewBox=\"0 0 24 24\"\n",
              "       width=\"24px\">\n",
              "    <path d=\"M0 0h24v24H0V0z\" fill=\"none\"/>\n",
              "    <path d=\"M18.56 5.44l.94 2.06.94-2.06 2.06-.94-2.06-.94-.94-2.06-.94 2.06-2.06.94zm-11 1L8.5 8.5l.94-2.06 2.06-.94-2.06-.94L8.5 2.5l-.94 2.06-2.06.94zm10 10l.94 2.06.94-2.06 2.06-.94-2.06-.94-.94-2.06-.94 2.06-2.06.94z\"/><path d=\"M17.41 7.96l-1.37-1.37c-.4-.4-.92-.59-1.43-.59-.52 0-1.04.2-1.43.59L10.3 9.45l-7.72 7.72c-.78.78-.78 2.05 0 2.83L4 21.41c.39.39.9.59 1.41.59.51 0 1.02-.2 1.41-.59l7.78-7.78 2.81-2.81c.8-.78.8-2.07 0-2.86zM5.41 20L4 18.59l7.72-7.72 1.47 1.35L5.41 20z\"/>\n",
              "  </svg>\n",
              "      </button>\n",
              "      \n",
              "  <style>\n",
              "    .colab-df-container {\n",
              "      display:flex;\n",
              "      flex-wrap:wrap;\n",
              "      gap: 12px;\n",
              "    }\n",
              "\n",
              "    .colab-df-convert {\n",
              "      background-color: #E8F0FE;\n",
              "      border: none;\n",
              "      border-radius: 50%;\n",
              "      cursor: pointer;\n",
              "      display: none;\n",
              "      fill: #1967D2;\n",
              "      height: 32px;\n",
              "      padding: 0 0 0 0;\n",
              "      width: 32px;\n",
              "    }\n",
              "\n",
              "    .colab-df-convert:hover {\n",
              "      background-color: #E2EBFA;\n",
              "      box-shadow: 0px 1px 2px rgba(60, 64, 67, 0.3), 0px 1px 3px 1px rgba(60, 64, 67, 0.15);\n",
              "      fill: #174EA6;\n",
              "    }\n",
              "\n",
              "    [theme=dark] .colab-df-convert {\n",
              "      background-color: #3B4455;\n",
              "      fill: #D2E3FC;\n",
              "    }\n",
              "\n",
              "    [theme=dark] .colab-df-convert:hover {\n",
              "      background-color: #434B5C;\n",
              "      box-shadow: 0px 1px 3px 1px rgba(0, 0, 0, 0.15);\n",
              "      filter: drop-shadow(0px 1px 2px rgba(0, 0, 0, 0.3));\n",
              "      fill: #FFFFFF;\n",
              "    }\n",
              "  </style>\n",
              "\n",
              "      <script>\n",
              "        const buttonEl =\n",
              "          document.querySelector('#df-e7f794d3-6659-4d30-9bfd-bfbca8a8d128 button.colab-df-convert');\n",
              "        buttonEl.style.display =\n",
              "          google.colab.kernel.accessAllowed ? 'block' : 'none';\n",
              "\n",
              "        async function convertToInteractive(key) {\n",
              "          const element = document.querySelector('#df-e7f794d3-6659-4d30-9bfd-bfbca8a8d128');\n",
              "          const dataTable =\n",
              "            await google.colab.kernel.invokeFunction('convertToInteractive',\n",
              "                                                     [key], {});\n",
              "          if (!dataTable) return;\n",
              "\n",
              "          const docLinkHtml = 'Like what you see? Visit the ' +\n",
              "            '<a target=\"_blank\" href=https://colab.research.google.com/notebooks/data_table.ipynb>data table notebook</a>'\n",
              "            + ' to learn more about interactive tables.';\n",
              "          element.innerHTML = '';\n",
              "          dataTable['output_type'] = 'display_data';\n",
              "          await google.colab.output.renderOutput(dataTable, element);\n",
              "          const docLink = document.createElement('div');\n",
              "          docLink.innerHTML = docLinkHtml;\n",
              "          element.appendChild(docLink);\n",
              "        }\n",
              "      </script>\n",
              "    </div>\n",
              "  </div>\n",
              "  "
            ]
          },
          "metadata": {},
          "execution_count": 69
        }
      ]
    },
    {
      "cell_type": "code",
      "source": [
        "#Create the csv file, and check your folder\n",
        "import csv\n",
        "final_df.to_csv('bive_cnn_output.csv')"
      ],
      "metadata": {
        "id": "WbO0BgmIma7V"
      },
      "execution_count": 70,
      "outputs": []
    },
    {
      "cell_type": "code",
      "source": [],
      "metadata": {
        "id": "RbnptwtEEHOM"
      },
      "execution_count": null,
      "outputs": []
    }
  ]
}